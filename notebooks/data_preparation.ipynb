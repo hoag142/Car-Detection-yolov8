{
    "cells": [
        {
            "cell_type": "markdown",
            "metadata": {},
            "source": [
                "# Car Detection - Data Preparation with Roboflow\n",
                "\n",
                "This notebook guides you through the process of preparing a car detection dataset using Roboflow."
            ]
        },
        {
            "cell_type": "markdown",
            "metadata": {},
            "source": [
                "## 1. Install Required Libraries"
            ]
        },
        {
            "cell_type": "code",
            "execution_count": null,
            "metadata": {},
            "outputs": [],
            "source": [
                "!pip install roboflow ultralytics"
            ]
        },
        {
            "cell_type": "markdown",
            "metadata": {},
            "source": [
                "## 2. Roboflow Account Setup\n",
                "\n",
                "1. Go to [Roboflow](https://roboflow.com/) and create a free account\n",
                "2. Create a new project with the type \"Object Detection\"\n",
                "3. Get your API key from your Roboflow account settings"
            ]
        },
        {
            "cell_type": "code",
            "execution_count": null,
            "metadata": {},
            "outputs": [],
            "source": [
                "from roboflow import Roboflow\n",
                "\n",
                "# Initialize Roboflow client with your API key\n",
                "rf = Roboflow(api_key=\"YOUR_API_KEY\")"
            ]
        },
        {
            "cell_type": "markdown",
            "metadata": {},
            "source": [
                "## 3. Data Collection Options\n",
                "\n",
                "### Option 1: Upload your own car images\n",
                "Upload your annotated car images to Roboflow. You can use tools like LabelImg or CVAT for annotation.\n",
                "\n",
                "### Option 2: Use existing car datasets\n",
                "Load an existing car detection dataset from Roboflow Universe."
            ]
        },
        {
            "cell_type": "code",
            "execution_count": null,
            "metadata": {},
            "outputs": [],
            "source": [
                "# Option 2: Use an existing public car dataset from Roboflow Universe\n",
                "project = rf.workspace().project(\"vehicles-q0x2h\")\n",
                "dataset = project.version(1).download(\"yolov8\")"
            ]
        },
        {
            "cell_type": "markdown",
            "metadata": {},
            "source": [
                "## 4. Data Preprocessing and Augmentation in Roboflow\n",
                "\n",
                "In the Roboflow web interface:\n",
                "\n",
                "1. **Preprocessing**:\n",
                "   - Auto-orient images (fix orientation)\n",
                "   - Resize images (e.g., 640x640)\n",
                "   - Apply image enhancement techniques\n",
                "\n",
                "2. **Augmentation**:\n",
                "   - Rotation (±15°)\n",
                "   - Brightness adjustment (±25%)\n",
                "   - Saturation adjustments\n",
                "   - Blur/Noise addition\n",
                "   - Cutout (simulates occlusion)\n",
                "   - Mosaic (combines multiple images)\n",
                "   \n",
                "These techniques help improve model robustness by simulating different conditions."
            ]
        },
        {
            "cell_type": "markdown",
            "metadata": {},
            "source": [
                "## 5. Generate Dataset Version in Roboflow\n",
                "\n",
                "After uploading and preprocessing your data:\n",
                "\n",
                "1. Split the dataset (e.g., 70% train, 20% validation, 10% test)\n",
                "2. Generate a new dataset version\n",
                "3. Export in YOLOv8 format"
            ]
        },
        {
            "cell_type": "markdown",
            "metadata": {},
            "source": [
                "## 6. Download the Processed Dataset"
            ]
        },
        {
            "cell_type": "code",
            "execution_count": null,
            "metadata": {},
            "outputs": [],
            "source": [
                "# If using your own project\n",
                "# Replace with your workspace, project name, and version number\n",
                "rf = Roboflow(api_key=\"YOUR_API_KEY\")\n",
                "project = rf.workspace(\"YOUR_WORKSPACE\").project(\"car-detection\")\n",
                "dataset = project.version(1).download(\"yolov8\")\n",
                "\n",
                "print(f\"Dataset downloaded to: {dataset.location}\")"
            ]
        },
        {
            "cell_type": "markdown",
            "metadata": {},
            "source": [
                "## 7. Explore the Dataset Structure"
            ]
        },
        {
            "cell_type": "code",
            "execution_count": null,
            "metadata": {},
            "outputs": [],
            "source": [
                "import os\n",
                "\n",
                "# Navigate to dataset location (your path may differ)\n",
                "data_path = dataset.location\n",
                "\n",
                "print(\"Dataset structure:\")\n",
                "for root, dirs, files in os.walk(data_path):\n",
                "    level = root.replace(data_path, '').count(os.sep)\n",
                "    indent = ' ' * 4 * level\n",
                "    print(f\"{indent}{os.path.basename(root)}/\")\n",
                "    for file in files[:5]:  # Show only first 5 files per directory\n",
                "        print(f\"{indent}    {file}\")\n",
                "    if len(files) > 5:\n",
                "        print(f\"{indent}    ...\")"
            ]
        },
        {
            "cell_type": "markdown",
            "metadata": {},
            "source": [
                "## 8. Visualize Sample Images with Annotations"
            ]
        },
        {
            "cell_type": "code",
            "execution_count": null,
            "metadata": {},
            "outputs": [],
            "source": [
                "import cv2\n",
                "import matplotlib.pyplot as plt\n",
                "import numpy as np\n",
                "import glob\n",
                "\n",
                "def plot_sample_with_bbox(img_path, label_path):\n",
                "    # Read image\n",
                "    img = cv2.imread(img_path)\n",
                "    img = cv2.cvtColor(img, cv2.COLOR_BGR2RGB)\n",
                "    height, width, _ = img.shape\n",
                "    \n",
                "    # Read labels (YOLO format: class x_center y_center width height)\n",
                "    boxes = []\n",
                "    if os.path.exists(label_path):\n",
                "        with open(label_path, 'r') as f:\n",
                "            for line in f.readlines():\n",
                "                data = line.strip().split()\n",
                "                class_id = int(data[0])\n",
                "                x_center = float(data[1]) * width\n",
                "                y_center = float(data[2]) * height\n",
                "                box_width = float(data[3]) * width\n",
                "                box_height = float(data[4]) * height\n",
                "                \n",
                "                x1 = int(x_center - box_width / 2)\n",
                "                y1 = int(y_center - box_height / 2)\n",
                "                x2 = int(x_center + box_width / 2)\n",
                "                y2 = int(y_center + box_height / 2)\n",
                "                \n",
                "                boxes.append((class_id, x1, y1, x2, y2))\n",
                "    \n",
                "    # Plot image with bounding boxes\n",
                "    plt.figure(figsize=(10, 10))\n",
                "    plt.imshow(img)\n",
                "    \n",
                "    colors = [(255, 0, 0), (0, 255, 0), (0, 0, 255), (255, 255, 0), (0, 255, 255)]\n",
                "    \n",
                "    for box in boxes:\n",
                "        class_id, x1, y1, x2, y2 = box\n",
                "        color = colors[class_id % len(colors)]\n",
                "        \n",
                "        rect = plt.Rectangle((x1, y1), x2-x1, y2-y1, fill=False, \n",
                "                           edgecolor=np.array(color)/255, linewidth=2)\n",
                "        plt.gca().add_patch(rect)\n",
                "        plt.text(x1, y1-5, f\"Class {class_id}\", \n",
                "                 color=np.array(color)/255, fontsize=12, \n",
                "                 bbox=dict(facecolor='white', alpha=0.7))\n",
                "    \n",
                "    plt.axis('off')\n",
                "    plt.title(os.path.basename(img_path))\n",
                "    plt.show()\n",
                "\n",
                "# Display a few sample images from the training set\n",
                "train_images = glob.glob(f\"{data_path}/train/images/*.jpg\")[:3]\n",
                "\n",
                "for img_path in train_images:\n",
                "    label_path = img_path.replace('images', 'labels').replace('.jpg', '.txt')\n",
                "    plot_sample_with_bbox(img_path, label_path)"
            ]
        },
        {
            "cell_type": "markdown",
            "metadata": {},
            "source": [
                "## 9. Apply Additional Image Processing Techniques\n",
                "\n",
                "While Roboflow provides many preprocessing options, you can apply additional techniques:"
            ]
        },
        {
            "cell_type": "code",
            "execution_count": null,
            "metadata": {},
            "outputs": [],
            "source": [
                "import cv2\n",
                "import numpy as np\n",
                "import matplotlib.pyplot as plt\n",
                "\n",
                "# Load a sample image\n",
                "sample_img_path = train_images[0]\n",
                "img = cv2.imread(sample_img_path)\n",
                "img = cv2.cvtColor(img, cv2.COLOR_BGR2RGB)\n",
                "\n",
                "# 1. Apply histogram equalization (enhance contrast)\n",
                "img_yuv = cv2.cvtColor(img, cv2.COLOR_RGB2YUV)\n",
                "img_yuv[:,:,0] = cv2.equalizeHist(img_yuv[:,:,0])\n",
                "img_hist_eq = cv2.cvtColor(img_yuv, cv2.COLOR_YUV2RGB)\n",
                "\n",
                "# 2. Apply Gaussian blur (reduce noise)\n",
                "img_blur = cv2.GaussianBlur(img, (5, 5), 0)\n",
                "\n",
                "# 3. Apply edge detection (Canny)\n",
                "img_gray = cv2.cvtColor(img, cv2.COLOR_RGB2GRAY)\n",
                "img_edges = cv2.Canny(img_gray, 100, 200)\n",
                "img_edges_color = cv2.cvtColor(img_edges, cv2.COLOR_GRAY2RGB)\n",
                "\n",
                "# 4. Apply adaptive thresholding\n",
                "img_thresh = cv2.adaptiveThreshold(img_gray, 255, cv2.ADAPTIVE_THRESH_GAUSSIAN_C, \n",
                "                                  cv2.THRESH_BINARY, 11, 2)\n",
                "img_thresh_color = cv2.cvtColor(img_thresh, cv2.COLOR_GRAY2RGB)\n",
                "\n",
                "# Display the results\n",
                "fig, axes = plt.subplots(2, 3, figsize=(15, 10))\n",
                "\n",
                "axes[0, 0].imshow(img)\n",
                "axes[0, 0].set_title('Original')\n",
                "\n",
                "axes[0, 1].imshow(img_hist_eq)\n",
                "axes[0, 1].set_title('Histogram Equalization')\n",
                "\n",
                "axes[0, 2].imshow(img_blur)\n",
                "axes[0, 2].set_title('Gaussian Blur')\n",
                "\n",
                "axes[1, 0].imshow(img_edges_color)\n",
                "axes[1, 0].set_title('Edge Detection')\n",
                "\n",
                "axes[1, 1].imshow(img_thresh_color)\n",
                "axes[1, 1].set_title('Adaptive Thresholding')\n",
                "\n",
                "axes[1, 2].axis('off')\n",
                "\n",
                "for ax in axes.flat:\n",
                "    ax.axis('off')\n",
                "\n",
                "plt.tight_layout()\n",
                "plt.show()"
            ]
        },
        {
            "cell_type": "markdown",
            "metadata": {},
            "source": [
                "## 10. Create YAML Configuration for YOLOv8"
            ]
        },
        {
            "cell_type": "code",
            "execution_count": null,
            "metadata": {},
            "outputs": [],
            "source": [
                "# The Roboflow download should have created a data.yaml file\n",
                "# Let's check and modify if needed\n",
                "\n",
                "import yaml\n",
                "\n",
                "yaml_path = os.path.join(data_path, 'data.yaml')\n",
                "\n",
                "# Read the existing YAML file\n",
                "with open(yaml_path, 'r') as f:\n",
                "    data_yaml = yaml.safe_load(f)\n",
                "\n",
                "print(\"Current data.yaml contents:\")\n",
                "print(yaml.dump(data_yaml))"
            ]
        },
        {
            "cell_type": "markdown",
            "metadata": {},
            "source": [
                "## 11. Copy the dataset to the project data directory"
            ]
        },
        {
            "cell_type": "code",
            "execution_count": null,
            "metadata": {},
            "outputs": [],
            "source": [
                "import shutil\n",
                "\n",
                "project_data_dir = \"../data\"\n",
                "\n",
                "# Copy the entire dataset to the project data directory\n",
                "if os.path.exists(data_path):\n",
                "    # Create a subdirectory with the dataset name\n",
                "    dataset_name = os.path.basename(data_path)\n",
                "    target_dir = os.path.join(project_data_dir, dataset_name)\n",
                "    \n",
                "    if os.path.exists(target_dir):\n",
                "        print(f\"Warning: {target_dir} already exists. Skipping copy.\")\n",
                "    else:\n",
                "        shutil.copytree(data_path, target_dir)\n",
                "        print(f\"Dataset copied to {target_dir}\")"
            ]
        },
        {
            "cell_type": "markdown",
            "metadata": {},
            "source": [
                "## Next Steps\n",
                "\n",
                "Now that your dataset is prepared and properly formatted for YOLOv8, you can proceed to model training. See the `model_training.ipynb` notebook for instructions on training your car detection model."
            ]
        }
    ],
    "metadata": {
        "language_info": {
            "name": "python"
        }
    },
    "nbformat": 4,
    "nbformat_minor": 2
}